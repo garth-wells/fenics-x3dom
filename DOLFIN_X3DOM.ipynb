{
 "cells": [
  {
   "cell_type": "markdown",
   "metadata": {},
   "source": [
    "# X3DOM examples\n",
    "\n",
    "This notebook demonstrates experimental DOLFIN features (<http://fenicsproject.org>) for X3DOM (<http://www.x3dom.org/>) and (X)HTML output. The objective is to support the interactive display of meshes and simulation outputs in web browsers, including in Jupyter notebooks.\n",
    "\n",
    "These examples use a development version of DOLFIN at <https://bitbucket.org/garth-wells/dolfin-coding-days>, and the branch `x3dom`."
   ]
  },
  {
   "cell_type": "code",
   "execution_count": 1,
   "metadata": {
    "collapsed": true
   },
   "outputs": [],
   "source": [
    "from IPython.core.display import HTML\n",
    "from dolfin import *"
   ]
  },
  {
   "cell_type": "code",
   "execution_count": 2,
   "metadata": {
    "collapsed": true
   },
   "outputs": [],
   "source": [
    "# Create mesh in 2D\n",
    "mesh = UnitSquareMesh(32, 32)"
   ]
  },
  {
   "cell_type": "code",
   "execution_count": 3,
   "metadata": {
    "collapsed": false
   },
   "outputs": [],
   "source": [
    "# Display mesh\n",
    "HTML(X3DOM.xhtml(mesh))"
   ]
  },
  {
   "cell_type": "code",
   "execution_count": 4,
   "metadata": {
    "collapsed": false
   },
   "outputs": [],
   "source": [
    "# Create mesh in 3D and display\n",
    "mesh = UnitCubeMesh(16, 16, 16)\n",
    "HTML(X3DOM.xhtml(mesh))"
   ]
  },
  {
   "cell_type": "code",
   "execution_count": 5,
   "metadata": {
    "collapsed": false
   },
   "outputs": [],
   "source": [
    "# Create a contour plot\n",
    "e = Expression(\"sin(x[0])*sin(x[1])\", degree=1)\n",
    "V = FunctionSpace(mesh, \"Lagrange\", 1)\n",
    "u = Function(V)\n",
    "u.interpolate(e)\n",
    "\n",
    "HTML(X3DOM.xhtml(u))"
   ]
  }
 ],
 "metadata": {
  "kernelspec": {
   "display_name": "Python 2",
   "language": "python",
   "name": "python2"
  },
  "language_info": {
   "codemirror_mode": {
    "name": "ipython",
    "version": 2
   },
   "file_extension": ".py",
   "mimetype": "text/x-python",
   "name": "python",
   "nbconvert_exporter": "python",
   "pygments_lexer": "ipython2",
   "version": "2.7.6"
  }
 },
 "nbformat": 4,
 "nbformat_minor": 0
}
